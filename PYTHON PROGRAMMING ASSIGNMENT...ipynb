{
 "cells": [
  {
   "cell_type": "code",
   "execution_count": 2,
   "id": "b4f5e75b-6ffa-496d-b9a0-892b271e39b3",
   "metadata": {},
   "outputs": [
    {
     "name": "stdin",
     "output_type": "stream",
     "text": [
      "enter a no 5\n"
     ]
    },
    {
     "name": "stdout",
     "output_type": "stream",
     "text": [
      "yes\n"
     ]
    }
   ],
   "source": [
    "##########Exercise 1: Prime Numbers\n",
    "\n",
    "n = int(input(\"enter a no\"))\n",
    "c = 0\n",
    "for i in range(1,n+1):\n",
    "    if n % i == 0:\n",
    "        c += 1\n",
    "if c == 2:\n",
    "    print(\"yes\")\n",
    "else : \n",
    "    print(\"no\")"
   ]
  },
  {
   "cell_type": "code",
   "execution_count": 5,
   "id": "bf639cfb-24e1-434a-ba2d-b46bc53e70bb",
   "metadata": {},
   "outputs": [
    {
     "name": "stdin",
     "output_type": "stream",
     "text": [
      "what is the product of 5 and 3 ? 15\n"
     ]
    },
    {
     "name": "stdout",
     "output_type": "stream",
     "text": [
      "Congrats , Your ans 15 is correct\n"
     ]
    }
   ],
   "source": [
    "########### Exercise 2: Product of Random Numbers\n",
    "\n",
    "import random as rd\n",
    "num1 = rd.randint(1,10)\n",
    "num2 = rd.randint(1,10)\n",
    "actual_ans = num1 * num2\n",
    "user_ans = int(input(f\"what is the product of {num1} and {num2} ?\"))\n",
    "if user_ans == actual_ans:\n",
    "    print((f\"Congrats , Your ans {user_ans} is correct\"))\n",
    "else :\n",
    "    print((f\"no this ans is not correct  , the actual ans is {actual_ans} \"))"
   ]
  },
  {
   "cell_type": "code",
   "execution_count": 6,
   "id": "bf20d5d0-fda4-48fc-b2c7-e1202a193332",
   "metadata": {},
   "outputs": [
    {
     "name": "stdin",
     "output_type": "stream",
     "text": [
      "enter the 1st term 100\n",
      "enter the last term 200\n"
     ]
    },
    {
     "name": "stdout",
     "output_type": "stream",
     "text": [
      "Squares of Even Numbers within the range of 100 to 200 are : [10000, 10404, 10816, 11236, 11664, 12100, 12544, 12996, 13456, 13924, 14400, 14884, 15376, 15876, 16384, 16900, 17424, 17956, 18496, 19044, 19600, 20164, 20736, 21316, 21904, 22500, 23104, 23716, 24336, 24964, 25600, 26244, 26896, 27556, 28224, 28900, 29584, 30276, 30976, 31684, 32400, 33124, 33856, 34596, 35344, 36100, 36864, 37636, 38416, 39204, 40000] \n"
     ]
    }
   ],
   "source": [
    "########### Exercise 3: Squares of Even Numbers\n",
    "n1 = int(input(\"enter the 1st term\"))\n",
    "n = int(input(\"enter the last term\"))\n",
    "L = []\n",
    "for i in range(n1,n+1):\n",
    "    if i % 2 == 0 :\n",
    "        L.append(i ** 2)\n",
    "    else:\n",
    "        pass\n",
    "print((f\"Squares of Even Numbers within the range of {n1} to {n} are : {L} \"))\n",
    "\n",
    "\n"
   ]
  },
  {
   "cell_type": "code",
   "execution_count": 7,
   "id": "8b855636-8d28-4f23-874b-9519dd4a240e",
   "metadata": {},
   "outputs": [
    {
     "name": "stdin",
     "output_type": "stream",
     "text": [
      "enter a string racecar\n"
     ]
    },
    {
     "name": "stdout",
     "output_type": "stream",
     "text": [
      "yes it is a palindrome\n"
     ]
    }
   ],
   "source": [
    "############ Exercise 5: Check for Palindrome\n",
    "def Palindrome_chkr (S):\n",
    "    s = \"\"            \n",
    "    for i in range (len(S)-1,-1,-1):\n",
    "        s += S[i]\n",
    "    if S == s:\n",
    "        print(\"yes it is a palindrome\")\n",
    "        \n",
    "    else:\n",
    "        print(\"No it is not a pallindrome\")\n",
    "S = input(\"enter a string\")\n",
    "X = (Palindrome_chkr(S))\n",
    "\n"
   ]
  },
  {
   "cell_type": "code",
   "execution_count": null,
   "id": "06f950c6-0b6e-4d1a-ae8b-3d5b01693a20",
   "metadata": {},
   "outputs": [],
   "source": []
  }
 ],
 "metadata": {
  "kernelspec": {
   "display_name": "Python 3 (ipykernel)",
   "language": "python",
   "name": "python3"
  },
  "language_info": {
   "codemirror_mode": {
    "name": "ipython",
    "version": 3
   },
   "file_extension": ".py",
   "mimetype": "text/x-python",
   "name": "python",
   "nbconvert_exporter": "python",
   "pygments_lexer": "ipython3",
   "version": "3.11.7"
  }
 },
 "nbformat": 4,
 "nbformat_minor": 5
}
