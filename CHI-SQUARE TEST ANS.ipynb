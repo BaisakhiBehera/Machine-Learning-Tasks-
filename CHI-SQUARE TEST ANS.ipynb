{
 "cells": [
  {
   "cell_type": "code",
   "execution_count": 5,
   "id": "1571cabf-43de-4c75-afcf-acda3e0e418a",
   "metadata": {},
   "outputs": [
    {
     "name": "stdout",
     "output_type": "stream",
     "text": [
      "Chi-Square Statistic: 5.638227513227513\n",
      "P-value: 0.22784371130697179\n",
      "Degrees of Freedom: 4\n",
      "\n",
      "Expected Frequencies:\n",
      " [[ 48.  72.]\n",
      " [ 72. 108.]\n",
      " [ 60.  90.]\n",
      " [ 32.  48.]\n",
      " [ 28.  42.]]\n",
      "\n",
      "Critical Value for 0.05 significance level: 9.487729036781154\n",
      "Ho is accepted and H1 is rejected.\n"
     ]
    }
   ],
   "source": [
    "# H0 = there's no significant association between the type of smart home device purchased (Smart Thermostats vs. Smart Lights) \n",
    "#and the customer satisfaction level.\n",
    "# H1 = there's a significant association between the type of smart home device purchased (Smart Thermostats vs. Smart Lights) \n",
    "#and the customer satisfaction level.\n",
    "\n",
    "import numpy as np\n",
    "import scipy.stats as stats\n",
    "\n",
    "\"\"\"Step 1: Prepare the Contingency Table\n",
    "The table represents:\n",
    "Rows: Very Satisfied, Satisfied, Neutral, Unsatisfied, Very Unsatisfied\n",
    "Columns: Smart Thermostat, Smart Light\"\"\"\n",
    "data = np.array([[50, 70],\n",
    "                     [80, 100],\n",
    "                     [60, 90],\n",
    "                     [30, 50],\n",
    "                     [20, 50]])\n",
    "\n",
    "# Perform the chi-square test\n",
    "chi2_stat, p_val, dof,expected  = stats.chi2_contingency(data)\n",
    "\n",
    "# Calculate the critical value for a 0.05 significance level\n",
    "# chi squre table\n",
    "import scipy.stats as stats\n",
    "critical_value = stats.chi2.ppf(q = 0.95, df = 4)\n",
    "crit.round(4)\n",
    "\n",
    "print(f\"Chi-Square Statistic: {chi2_stat}\")\n",
    "print(f\"P-value: {p_val}\")\n",
    "print(f\"Degrees of Freedom: {dof}\")\n",
    "print(\"\\nExpected Frequencies:\\n\", expected)\n",
    "print(f\"\\nCritical Value for 0.05 significance level: {critical_value}\")\n",
    "\n",
    "alpha = 0.05\n",
    "if p_val < alpha:\n",
    "    print(\"Ho is rejected and H1 is accepted.\")\n",
    "else:\n",
    "    print(\"Ho is accepted and H1 is rejected.\")\n",
    "\n",
    "#### here our Chi-Square Statistic value falls under the accepted region , so H0 should be accepted and H1 should be rejected.\n",
    "### So we have enough evidence to prove / say that there's no ignificant association between the type of smart home device purchased (Smart Thermostats vs. Smart Lights)\n",
    "# and the customer satisfaction level.\n"
   ]
  },
  {
   "cell_type": "code",
   "execution_count": null,
   "id": "16f57213-5691-4cb2-b320-972af54425e6",
   "metadata": {},
   "outputs": [],
   "source": []
  }
 ],
 "metadata": {
  "kernelspec": {
   "display_name": "Python 3 (ipykernel)",
   "language": "python",
   "name": "python3"
  },
  "language_info": {
   "codemirror_mode": {
    "name": "ipython",
    "version": 3
   },
   "file_extension": ".py",
   "mimetype": "text/x-python",
   "name": "python",
   "nbconvert_exporter": "python",
   "pygments_lexer": "ipython3",
   "version": "3.11.7"
  }
 },
 "nbformat": 4,
 "nbformat_minor": 5
}
