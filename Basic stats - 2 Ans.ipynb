{
 "cells": [
  {
   "cell_type": "code",
   "execution_count": 1,
   "id": "a1378d25-d370-42ca-b6a5-d0a4a4fecf32",
   "metadata": {},
   "outputs": [
    {
     "name": "stdout",
     "output_type": "stream",
     "text": [
      "I am 99% confident that the population mean lies between: (1.090197338451367, 1.3871359948819662)\n"
     ]
    }
   ],
   "source": [
    "######## a. Build 99% Confidence Interval Using Sample Standard Deviation\n",
    "import numpy as np\n",
    "from scipy.stats import t\n",
    "\n",
    "# Given data\n",
    "data = np.array([1.13, 1.55, 1.43, 0.92, 1.25, 1.36, 1.32, 0.85, 1.07, 1.48, 1.20, 1.33, 1.18, 1.22, 1.29])\n",
    "\n",
    "# Sample size\n",
    "n = len(data)\n",
    "\n",
    "# Sample mean and standard deviation\n",
    "sample_mean = np.mean(data)\n",
    "sample_std = np.std(data, ddof=1)\n",
    "\n",
    "# Calculate the 99% confidence interval using t-distribution\n",
    "confidence_interval = t.interval(0.99, df=n-1, loc=sample_mean, scale=sample_std/np.sqrt(n))\n",
    "\n",
    "print(\"I am 99% confident that the population mean lies between:\", confidence_interval)"
   ]
  },
  {
   "cell_type": "code",
   "execution_count": 2,
   "id": "4cbeaf21-b7fa-4120-baec-8d7633ddbfed",
   "metadata": {},
   "outputs": [
    {
     "name": "stdout",
     "output_type": "stream",
     "text": [
      "I am 99% confident that the population mean lies between: (1.1056514133957607, 1.3716819199375725)\n"
     ]
    }
   ],
   "source": [
    "########## b. Build 99% Confidence Interval Using Known Population Standard Deviation\n",
    "\n",
    "\n",
    "import numpy as np\n",
    "from scipy.stats import norm\n",
    "\n",
    "# Given data\n",
    "data = np.array([1.13, 1.55, 1.43, 0.92, 1.25, 1.36, 1.32, 0.85, 1.07, 1.48, 1.20, 1.33, 1.18, 1.22, 1.29])\n",
    "\n",
    "# Sample mean\n",
    "sample_mean = np.mean(data)\n",
    "\n",
    "# Given population standard deviation\n",
    "population_std = 0.2\n",
    "\n",
    "# Calculate the 99% confidence interval using z-distribution\n",
    "confidence_interval_population = norm.interval(0.99, loc=sample_mean, scale=population_std/np.sqrt(len(data)))\n",
    "\n",
    "print(\"I am 99% confident that the population mean lies between:\", confidence_interval_population)\n"
   ]
  },
  {
   "cell_type": "code",
   "execution_count": null,
   "id": "9faf8513-a3db-4744-b71c-6e73e1c8291e",
   "metadata": {},
   "outputs": [],
   "source": []
  }
 ],
 "metadata": {
  "kernelspec": {
   "display_name": "Python 3 (ipykernel)",
   "language": "python",
   "name": "python3"
  },
  "language_info": {
   "codemirror_mode": {
    "name": "ipython",
    "version": 3
   },
   "file_extension": ".py",
   "mimetype": "text/x-python",
   "name": "python",
   "nbconvert_exporter": "python",
   "pygments_lexer": "ipython3",
   "version": "3.11.7"
  }
 },
 "nbformat": 4,
 "nbformat_minor": 5
}
