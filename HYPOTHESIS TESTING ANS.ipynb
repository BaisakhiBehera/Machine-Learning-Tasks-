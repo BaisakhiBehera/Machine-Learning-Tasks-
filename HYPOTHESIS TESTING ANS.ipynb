{
 "cells": [
  {
   "cell_type": "code",
   "execution_count": 9,
   "id": "d6863080-051d-41e0-9693-5dd3bb6ec9a7",
   "metadata": {},
   "outputs": [],
   "source": [
    "####### so here tto find out the conclusion we are going to do both the two-sided test and one-sided(right-tailed test)"
   ]
  },
  {
   "cell_type": "code",
   "execution_count": 10,
   "id": "c1e92f99-357c-4b99-bfd6-477dd6f4f90f",
   "metadata": {},
   "outputs": [
    {
     "name": "stdout",
     "output_type": "stream",
     "text": [
      "Z-Score: -38.0\n",
      "P-Value: 0.0\n",
      "Critical Value : 1.959963984540054\n",
      "Ho is rejected and H1 is accepted.\n"
     ]
    }
   ],
   "source": [
    "####TTwo sided test\n",
    "# H0: μ = 4000\n",
    "# H1: μ != 4000\n",
    "import math\n",
    "from scipy import stats \n",
    "####### Given data\n",
    "sample_mean =3050\n",
    "Theoratical_mean = 4000\n",
    "sd = 125 \n",
    "n = 25 \n",
    "# Step 1: Calculate the Z-Score\n",
    "z_score = (sample_mean - Theoratical_mean) / (sd / math.sqrt(n))\n",
    "# Step 2: Calculate the P-Value\n",
    "p_value = 2 * (1 - stats.norm.cdf(abs(z_score)))\n",
    "\n",
    "# Step 3: Determine the Critical Value for a 95% confidence level (alpha = 0.05) in a two-tailed test\n",
    "critical_value = stats.norm.ppf(0.975)\n",
    "\n",
    "# Step 4: Print the results\n",
    "print(f\"Z-Score: {z_score}\")\n",
    "print(f\"P-Value: {p_value}\")\n",
    "print(f\"Critical Value : {critical_value}\")\n",
    "\n",
    "# Step 5: Conclusion\n",
    "alpha = 0.05\n",
    "if p_value < alpha:\n",
    "    print(\"Ho is rejected and H1 is accepted.\")\n",
    "else:\n",
    "    print(\"Ho is accepted and H1 is rejected.\")\n",
    "###################################\n",
    "# here our Z-score value is falls under the critical region , so H1 is accepted .\n",
    "\n",
    "# So based on the test results  there is strong evidence that there is a is a significant  difference between the observed and theoretical mean costs.\n",
    "\n"
   ]
  },
  {
   "cell_type": "code",
   "execution_count": 11,
   "id": "ed512dba-b83e-4b60-adc1-2c81d46c25b6",
   "metadata": {},
   "outputs": [
    {
     "name": "stdout",
     "output_type": "stream",
     "text": [
      "Z-Score: -38.0\n",
      "P-Value: 0.0\n",
      "Critical Value : 1.6448536269514722\n",
      "Ho is rejected and H1 is accepted.\n"
     ]
    }
   ],
   "source": [
    "######### one sided test/right tailed test\n",
    "# H0 = μ <= 4000\n",
    "# H1 = μ > 4000\n",
    "import math\n",
    "from scipy import stats \n",
    "####### Given data\n",
    "sample_mean =3050\n",
    "Theoratical_mean = 4000\n",
    "sd = 125 \n",
    "n = 25 \n",
    "# Step 1: Calculate the Z-Score\n",
    "z_score = (sample_mean - Theoratical_mean) / (sd / math.sqrt(n))\n",
    "# Step 2: Calculate the P-Value\n",
    "p_value = 2 * (1 - stats.norm.cdf(abs(z_score)))\n",
    "\n",
    "# Step 3: Determine the Critical Value for a 95% confidence level (alpha = 0.05) in a two-tailed test\n",
    "critical_value = stats.norm.ppf(0.95)\n",
    "\n",
    "# Step 4: Print the results\n",
    "print(f\"Z-Score: {z_score}\")\n",
    "print(f\"P-Value: {p_value}\")\n",
    "print(f\"Critical Value : {critical_value}\")\n",
    "\n",
    "# Step 5: Conclusion\n",
    "alpha = 0.05\n",
    "if p_value < alpha:\n",
    "    print(\"Ho is rejected and H1 is accepted.\")\n",
    "else:\n",
    "    print(\"Ho is accepted and H1 is rejected.\")\n",
    "###################################\n",
    "# here our Z-score value is falls under the accepted  region , so H1 is accepted .\n",
    "######## "
   ]
  },
  {
   "cell_type": "code",
   "execution_count": 12,
   "id": "7f6ef3b5-1aed-483f-8663-f88eba9a5df2",
   "metadata": {},
   "outputs": [],
   "source": [
    "# So based on both the  test results  there is strong evidence that there is a is a significant  difference between the observed and theoretical mean costs.\n",
    "# and there is no  evidence to support the restaurant owners' claim that the weekly operating costs are higher than the model suggests .\n"
   ]
  }
 ],
 "metadata": {
  "kernelspec": {
   "display_name": "Python 3 (ipykernel)",
   "language": "python",
   "name": "python3"
  },
  "language_info": {
   "codemirror_mode": {
    "name": "ipython",
    "version": 3
   },
   "file_extension": ".py",
   "mimetype": "text/x-python",
   "name": "python",
   "nbconvert_exporter": "python",
   "pygments_lexer": "ipython3",
   "version": "3.11.7"
  }
 },
 "nbformat": 4,
 "nbformat_minor": 5
}
